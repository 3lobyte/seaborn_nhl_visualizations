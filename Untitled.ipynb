{
 "cells": [
  {
   "cell_type": "code",
   "execution_count": 110,
   "metadata": {},
   "outputs": [],
   "source": [
    "import pandas as pd\n",
    "import numpy as np\n",
    "import seaborn as sns\n",
    "import matplotlib as pyplot\n",
    "import re\n",
    "%matplotlib inline"
   ]
  },
  {
   "cell_type": "code",
   "execution_count": 111,
   "metadata": {},
   "outputs": [],
   "source": [
    "df = pd.read_csv('skaters.csv')"
   ]
  },
  {
   "cell_type": "code",
   "execution_count": 112,
   "metadata": {},
   "outputs": [],
   "source": [
    "columns = df.columns.tolist()"
   ]
  },
  {
   "cell_type": "code",
   "execution_count": 113,
   "metadata": {},
   "outputs": [],
   "source": [
    "df.team = df.team.astype('str')"
   ]
  },
  {
   "cell_type": "code",
   "execution_count": 114,
   "metadata": {},
   "outputs": [],
   "source": [
    "hawks = df[df.team == 'CHI']"
   ]
  },
  {
   "cell_type": "code",
   "execution_count": 115,
   "metadata": {},
   "outputs": [
    {
     "name": "stdout",
     "output_type": "stream",
     "text": [
      "<class 'pandas.core.frame.DataFrame'>\n",
      "RangeIndex: 24 entries, 0 to 23\n",
      "Data columns (total 13 columns):\n",
      "No.           23 non-null object\n",
      "Player        24 non-null object\n",
      "Flag          24 non-null object\n",
      "Pos           24 non-null object\n",
      "Age           24 non-null int64\n",
      "Ht            24 non-null object\n",
      "Wt            24 non-null int64\n",
      "S/C           24 non-null object\n",
      "Exp           24 non-null object\n",
      "Birth Date    24 non-null object\n",
      "Summary       22 non-null object\n",
      "Salary        23 non-null object\n",
      "Draft         20 non-null object\n",
      "dtypes: int64(2), object(11)\n",
      "memory usage: 2.6+ KB\n"
     ]
    }
   ],
   "source": [
    "salary_df = pd.read_csv('hawks_salary.csv')\n",
    "salary_df.info()"
   ]
  },
  {
   "cell_type": "code",
   "execution_count": 116,
   "metadata": {},
   "outputs": [],
   "source": [
    "salary_df = salary_df[1:]"
   ]
  },
  {
   "cell_type": "code",
   "execution_count": 117,
   "metadata": {},
   "outputs": [],
   "source": [
    "col_titles = ['no.', 'name', 'nationality', 'pos', 'age', 'ht', 'wt', 'hand', 'exp', 'birth_date', 'summary', 'salary', 'draft']\n",
    "salary_df.columns = col_titles"
   ]
  },
  {
   "cell_type": "code",
   "execution_count": 118,
   "metadata": {},
   "outputs": [],
   "source": [
    "names = salary_df.name.tolist()\n",
    "new_names = []\n",
    "for name in names:\n",
    "    new_names.append(name.split(\"\\\\\")[0])\n",
    "    \n",
    "salary_df['name'] = new_names"
   ]
  },
  {
   "cell_type": "code",
   "execution_count": 119,
   "metadata": {},
   "outputs": [],
   "source": [
    "country_dict = {'se':'SWE', 'ca':'CAN', 'us':'USA', 'cz':'CZE', 'fi':'FIN','ru':'RUS', 'ge':'GER'}\n",
    "salary_df.nationality = salary_df.nationality.replace(country_dict)"
   ]
  },
  {
   "cell_type": "code",
   "execution_count": 120,
   "metadata": {},
   "outputs": [],
   "source": [
    "handedness = salary_df.hand.tolist()\n",
    "new_hand = []\n",
    "for x in handedness:\n",
    "    new_hand.append(x.split(\"/\")[0])\n",
    "\n",
    "salary_df['hand'] = new_hand"
   ]
  },
  {
   "cell_type": "code",
   "execution_count": 121,
   "metadata": {},
   "outputs": [],
   "source": [
    "salary = salary_df.salary.tolist()\n",
    "new_salary = []\n",
    "for x in salary:\n",
    "    x = x.replace(\",\",\"\")\n",
    "    new_salary.append(x.split(\"$\")[1])\n",
    "    \n",
    "salary_df['salary'] = new_salary\n",
    "salary_df.salary = salary_df.salary.astype('int')"
   ]
  },
  {
   "cell_type": "code",
   "execution_count": 122,
   "metadata": {},
   "outputs": [],
   "source": [
    "salary_df.exp.replace({'R':'0.5'}, inplace = True)"
   ]
  },
  {
   "cell_type": "code",
   "execution_count": 123,
   "metadata": {},
   "outputs": [],
   "source": [
    "index_names = salary_df[(salary_df.name == 'Corey Crawford') | (salary_df.name == 'Malcolm Subban')].index\n",
    "salary_df.drop(index_names, inplace = True)"
   ]
  },
  {
   "cell_type": "code",
   "execution_count": 124,
   "metadata": {},
   "outputs": [],
   "source": [
    "heights = salary_df.ht.tolist()\n",
    "new_heights = []\n",
    "for x in heights:\n",
    "    x = (int(x.split('-')[0]) * 12) + (int(x.split('-')[1]))\n",
    "    new_heights.append(x)\n",
    "    \n",
    "salary_df.ht = new_heights"
   ]
  },
  {
   "cell_type": "code",
   "execution_count": 125,
   "metadata": {},
   "outputs": [],
   "source": [
    "salary_df.drop(['summary', 'draft', 'birth_date'], axis = 1, inplace = True)"
   ]
  },
  {
   "cell_type": "code",
   "execution_count": 126,
   "metadata": {},
   "outputs": [],
   "source": [
    "salary_df.name.replace({'Jonathan Toews (C)':'Jonathan Toews'}, inplace = True)"
   ]
  },
  {
   "cell_type": "code",
   "execution_count": 128,
   "metadata": {},
   "outputs": [],
   "source": [
    "salary_df.to_csv('hawks_salary_clean.csv')"
   ]
  }
 ],
 "metadata": {
  "kernelspec": {
   "display_name": "Python 3",
   "language": "python",
   "name": "python3"
  },
  "language_info": {
   "codemirror_mode": {
    "name": "ipython",
    "version": 3
   },
   "file_extension": ".py",
   "mimetype": "text/x-python",
   "name": "python",
   "nbconvert_exporter": "python",
   "pygments_lexer": "ipython3",
   "version": "3.6.9"
  }
 },
 "nbformat": 4,
 "nbformat_minor": 4
}
