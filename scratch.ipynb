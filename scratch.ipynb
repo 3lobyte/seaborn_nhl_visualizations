{
 "cells": [
  {
   "cell_type": "code",
   "execution_count": 64,
   "metadata": {},
   "outputs": [],
   "source": [
    "import pandas as pd\n",
    "import numpy as np\n",
    "import seaborn as sns\n",
    "sns.set_style('darkgrid')\n",
    "import matplotlib.pyplot as plt\n",
    "import re\n",
    "import warnings\n",
    "\n",
    "warnings.filterwarnings('ignore')\n",
    "%matplotlib inline"
   ]
  },
  {
   "cell_type": "code",
   "execution_count": 65,
   "metadata": {},
   "outputs": [
    {
     "name": "stdout",
     "output_type": "stream",
     "text": [
      "<class 'pandas.core.frame.DataFrame'>\n",
      "RangeIndex: 24 entries, 0 to 23\n",
      "Data columns (total 13 columns):\n",
      "No.           23 non-null object\n",
      "Player        24 non-null object\n",
      "Flag          24 non-null object\n",
      "Pos           24 non-null object\n",
      "Age           24 non-null int64\n",
      "Ht            24 non-null object\n",
      "Wt            24 non-null int64\n",
      "S/C           24 non-null object\n",
      "Exp           24 non-null object\n",
      "Birth Date    24 non-null object\n",
      "Summary       22 non-null object\n",
      "Salary        23 non-null object\n",
      "Draft         20 non-null object\n",
      "dtypes: int64(2), object(11)\n",
      "memory usage: 2.6+ KB\n"
     ]
    }
   ],
   "source": [
    "salary_df = pd.read_csv('hawks_salary.csv')\n",
    "salary_df.info()"
   ]
  },
  {
   "cell_type": "code",
   "execution_count": 66,
   "metadata": {},
   "outputs": [
    {
     "data": {
      "text/html": [
       "<div>\n",
       "<style scoped>\n",
       "    .dataframe tbody tr th:only-of-type {\n",
       "        vertical-align: middle;\n",
       "    }\n",
       "\n",
       "    .dataframe tbody tr th {\n",
       "        vertical-align: top;\n",
       "    }\n",
       "\n",
       "    .dataframe thead th {\n",
       "        text-align: right;\n",
       "    }\n",
       "</style>\n",
       "<table border=\"1\" class=\"dataframe\">\n",
       "  <thead>\n",
       "    <tr style=\"text-align: right;\">\n",
       "      <th></th>\n",
       "      <th>No.</th>\n",
       "      <th>Player</th>\n",
       "      <th>Flag</th>\n",
       "      <th>Pos</th>\n",
       "      <th>Age</th>\n",
       "      <th>Ht</th>\n",
       "      <th>Wt</th>\n",
       "      <th>S/C</th>\n",
       "      <th>Exp</th>\n",
       "      <th>Birth Date</th>\n",
       "      <th>Summary</th>\n",
       "      <th>Salary</th>\n",
       "      <th>Draft</th>\n",
       "    </tr>\n",
       "  </thead>\n",
       "  <tbody>\n",
       "    <tr>\n",
       "      <td>0</td>\n",
       "      <td>NaN</td>\n",
       "      <td>Nicolas Beaudin\\beaudni01</td>\n",
       "      <td>ca</td>\n",
       "      <td>D</td>\n",
       "      <td>20</td>\n",
       "      <td>5-11</td>\n",
       "      <td>168</td>\n",
       "      <td>L/-</td>\n",
       "      <td>R</td>\n",
       "      <td>October 7 1999</td>\n",
       "      <td>NaN</td>\n",
       "      <td>NaN</td>\n",
       "      <td>2018 CHI 1st (27)</td>\n",
       "    </tr>\n",
       "    <tr>\n",
       "      <td>1</td>\n",
       "      <td>27</td>\n",
       "      <td>Adam Boqvist\\boqviad01</td>\n",
       "      <td>se</td>\n",
       "      <td>D</td>\n",
       "      <td>19</td>\n",
       "      <td>5-11</td>\n",
       "      <td>179</td>\n",
       "      <td>R/-</td>\n",
       "      <td>R</td>\n",
       "      <td>August 15 2000</td>\n",
       "      <td>4 G 9 A 13 P</td>\n",
       "      <td>$925,000</td>\n",
       "      <td>2018 CHI 1st (8)</td>\n",
       "    </tr>\n",
       "    <tr>\n",
       "      <td>2</td>\n",
       "      <td>91</td>\n",
       "      <td>Drake Caggiula\\caggidr01</td>\n",
       "      <td>ca</td>\n",
       "      <td>F</td>\n",
       "      <td>25</td>\n",
       "      <td>5-10</td>\n",
       "      <td>176</td>\n",
       "      <td>L/-</td>\n",
       "      <td>3</td>\n",
       "      <td>June 20 1994</td>\n",
       "      <td>9 G 6 A 15 P</td>\n",
       "      <td>$1,500,000</td>\n",
       "      <td>NaN</td>\n",
       "    </tr>\n",
       "    <tr>\n",
       "      <td>3</td>\n",
       "      <td>46-47</td>\n",
       "      <td>Lucas Carlsson\\carlslu01</td>\n",
       "      <td>se</td>\n",
       "      <td>D</td>\n",
       "      <td>22</td>\n",
       "      <td>6-0</td>\n",
       "      <td>189</td>\n",
       "      <td>L/-</td>\n",
       "      <td>R</td>\n",
       "      <td>July 5 1997</td>\n",
       "      <td>0 G 1 A 1 P</td>\n",
       "      <td>$792,500</td>\n",
       "      <td>2016 CHI 4th (110)</td>\n",
       "    </tr>\n",
       "    <tr>\n",
       "      <td>4</td>\n",
       "      <td>22</td>\n",
       "      <td>Ryan Carpenter\\carpery01</td>\n",
       "      <td>us</td>\n",
       "      <td>F</td>\n",
       "      <td>29</td>\n",
       "      <td>6-0</td>\n",
       "      <td>200</td>\n",
       "      <td>R/-</td>\n",
       "      <td>4</td>\n",
       "      <td>January 18 1991</td>\n",
       "      <td>3 G 12 A 15 P</td>\n",
       "      <td>$1,000,000</td>\n",
       "      <td>NaN</td>\n",
       "    </tr>\n",
       "  </tbody>\n",
       "</table>\n",
       "</div>"
      ],
      "text/plain": [
       "     No.                     Player Flag Pos  Age    Ht   Wt  S/C Exp  \\\n",
       "0    NaN  Nicolas Beaudin\\beaudni01   ca   D   20  5-11  168  L/-   R   \n",
       "1     27     Adam Boqvist\\boqviad01   se   D   19  5-11  179  R/-   R   \n",
       "2     91   Drake Caggiula\\caggidr01   ca   F   25  5-10  176  L/-   3   \n",
       "3  46-47   Lucas Carlsson\\carlslu01   se   D   22   6-0  189  L/-   R   \n",
       "4     22   Ryan Carpenter\\carpery01   us   F   29   6-0  200  R/-   4   \n",
       "\n",
       "        Birth Date        Summary      Salary               Draft  \n",
       "0   October 7 1999            NaN         NaN   2018 CHI 1st (27)  \n",
       "1   August 15 2000   4 G 9 A 13 P    $925,000    2018 CHI 1st (8)  \n",
       "2     June 20 1994   9 G 6 A 15 P  $1,500,000                 NaN  \n",
       "3      July 5 1997    0 G 1 A 1 P    $792,500  2016 CHI 4th (110)  \n",
       "4  January 18 1991  3 G 12 A 15 P  $1,000,000                 NaN  "
      ]
     },
     "execution_count": 66,
     "metadata": {},
     "output_type": "execute_result"
    }
   ],
   "source": [
    "salary_df.head()"
   ]
  },
  {
   "cell_type": "code",
   "execution_count": 67,
   "metadata": {},
   "outputs": [],
   "source": [
    "salary_df = salary_df[1:]"
   ]
  },
  {
   "cell_type": "code",
   "execution_count": 68,
   "metadata": {},
   "outputs": [],
   "source": [
    "col_titles = ['no.', 'name', 'nationality', 'pos', 'age', 'ht', 'wt', 'hand', 'exp', 'birth_date', 'summary', 'salary', 'draft']\n",
    "salary_df.columns = col_titles"
   ]
  },
  {
   "cell_type": "code",
   "execution_count": 69,
   "metadata": {},
   "outputs": [],
   "source": [
    "names = salary_df.name.tolist()\n",
    "new_names = []\n",
    "for name in names:\n",
    "    new_names.append(name.split(\"\\\\\")[0])\n",
    "    \n",
    "salary_df['name'] = new_names"
   ]
  },
  {
   "cell_type": "code",
   "execution_count": 70,
   "metadata": {},
   "outputs": [],
   "source": [
    "country_dict = {'se':'SWE', 'ca':'CAN', 'us':'USA', 'cz':'CZE', 'fi':'FIN','ru':'RUS', 'ge':'GER'}\n",
    "salary_df.nationality = salary_df.nationality.replace(country_dict)"
   ]
  },
  {
   "cell_type": "code",
   "execution_count": 71,
   "metadata": {},
   "outputs": [],
   "source": [
    "handedness = salary_df.hand.tolist()\n",
    "new_hand = []\n",
    "for x in handedness:\n",
    "    new_hand.append(x.split(\"/\")[0])\n",
    "\n",
    "salary_df['hand'] = new_hand"
   ]
  },
  {
   "cell_type": "code",
   "execution_count": 72,
   "metadata": {},
   "outputs": [],
   "source": [
    "salary = salary_df.salary.tolist()\n",
    "new_salary = []\n",
    "for x in salary:\n",
    "    x = x.replace(\",\",\"\")\n",
    "    new_salary.append(x.split(\"$\")[1])\n",
    "    \n",
    "salary_df['salary'] = new_salary\n",
    "salary_df.salary = salary_df.salary.astype('int')"
   ]
  },
  {
   "cell_type": "code",
   "execution_count": 73,
   "metadata": {},
   "outputs": [],
   "source": [
    "salary_df.exp.replace({'R':'0.5'}, inplace = True)"
   ]
  },
  {
   "cell_type": "code",
   "execution_count": 74,
   "metadata": {},
   "outputs": [],
   "source": [
    "index_names = salary_df[(salary_df.name == 'Corey Crawford') | (salary_df.name == 'Malcolm Subban')].index\n",
    "salary_df.drop(index_names, inplace = True)"
   ]
  },
  {
   "cell_type": "code",
   "execution_count": 75,
   "metadata": {},
   "outputs": [],
   "source": [
    "heights = salary_df.ht.tolist()\n",
    "new_heights = []\n",
    "for x in heights:\n",
    "    x = (int(x.split('-')[0]) * 12) + (int(x.split('-')[1]))\n",
    "    new_heights.append(x)\n",
    "    \n",
    "salary_df.ht = new_heights"
   ]
  },
  {
   "cell_type": "code",
   "execution_count": 76,
   "metadata": {},
   "outputs": [],
   "source": [
    "salary_df.drop(['summary', 'draft', 'birth_date'], axis = 1, inplace = True)"
   ]
  },
  {
   "cell_type": "code",
   "execution_count": 77,
   "metadata": {},
   "outputs": [],
   "source": [
    "positions = ['F', 'D']\n",
    "salary_df = salary_df[salary_df['pos'].isin(positions)]"
   ]
  },
  {
   "cell_type": "code",
   "execution_count": 78,
   "metadata": {},
   "outputs": [],
   "source": [
    "salary_df.replace('Jonathan Toews (C)', 'Jonathan Toews', inplace = True)"
   ]
  },
  {
   "cell_type": "markdown",
   "metadata": {},
   "source": [
    "# Skaters DB"
   ]
  },
  {
   "cell_type": "code",
   "execution_count": 79,
   "metadata": {},
   "outputs": [],
   "source": [
    "hawks_df = pd.read_csv('skaters.csv')\n",
    "hawks_df = hawks_df[(hawks_df.team == 'CHI') & (hawks_df.situation == 'all')]"
   ]
  },
  {
   "cell_type": "code",
   "execution_count": 80,
   "metadata": {},
   "outputs": [],
   "source": [
    "full_hawks_df = pd.merge(hawks_df, salary_df, on = ['name'], how = 'outer')"
   ]
  },
  {
   "cell_type": "code",
   "execution_count": 81,
   "metadata": {},
   "outputs": [],
   "source": [
    "full_hawks_df = full_hawks_df.drop(labels = ['no.', 'pos'], axis = 1)"
   ]
  },
  {
   "cell_type": "code",
   "execution_count": 82,
   "metadata": {},
   "outputs": [],
   "source": [
    "seabrook = {'name': 'Brent Seabrook', 'nationality':'CAN', 'age': 34, 'ht': 75, 'wt': '220', 'hand':'R', 'exp': 15, 'salary': 6875000}\n",
    "sikura = {'name': 'Dylan Sikura', 'nationality': 'CAN', 'age':24, 'ht':71, 'wt':166, 'hand': 'L', 'exp': 3 , 'salary': 750000}\n",
    "dehaan = {'name':'Calvin de Haan', 'nationality': 'CAN', 'age':28, 'ht':73, 'wt':195, 'hand': 'L', 'exp': 8 , 'salary': 4550000}\n",
    "gilbert = {'name':'Dennis Gilbert', 'nationality': 'USA', 'age':23, 'ht':74, 'wt':216, 'hand': 'L', 'exp': 0.5 , 'salary': 925000}\n",
    "nylander = {'name':'Alex Nylander', 'nationality': 'SWE', 'age':22, 'ht':73, 'wt':192, 'hand': 'R', 'exp': 4 , 'salary': 863333}\n",
    "quenneville = {'name':'John Quenneville', 'nationality': 'CAN', 'age':23, 'ht':73, 'wt':195, 'hand': 'L', 'exp': 3 , 'salary': 750000}\n",
    "wedin = {'name':'Anton Wedin','nationality': 'SWE', 'age':27, 'ht': 71, 'wt':195, 'hand': 'L', 'exp': 0.5 , 'salary': 925000}\n",
    "beaudin = {'name':'Nicolas Beaudin','nationality': 'CAN', 'age':20, 'ht':71, 'wt':172, 'hand': 'L', 'exp': 0.5 , 'salary': 894167}\n",
    "shaw = {'name':'Andrew Shaw','nationality': 'CAN', 'age':28, 'ht':71, 'wt':182, 'hand': 'R', 'exp': 9 , 'salary':3900000}"
   ]
  },
  {
   "cell_type": "code",
   "execution_count": 83,
   "metadata": {},
   "outputs": [],
   "source": [
    "empty_players = ['Brent Seabrook', 'Dylan Sikura', 'Calvin de Haan', 'Dennis Gilbert', 'Alex Nylander', 'John Quenneville', 'Anton Wedin', 'Nicolas Beaudin', 'Andrew Shaw']\n",
    "empty_player_dicts = [seabrook, sikura, dehaan, gilbert, nylander, quenneville, wedin, beaudin, shaw]\n",
    "cols_replace = ['nationality', 'age', 'ht', 'wt', 'hand', 'exp', 'salary']"
   ]
  },
  {
   "cell_type": "code",
   "execution_count": 84,
   "metadata": {},
   "outputs": [],
   "source": [
    "for player in empty_players:\n",
    "    for pdict in empty_player_dicts:\n",
    "        full_hawks_df[full_hawks_df.name == player] = full_hawks_df.fillna(pdict)"
   ]
  },
  {
   "cell_type": "code",
   "execution_count": 85,
   "metadata": {},
   "outputs": [],
   "source": [
    "df = full_hawks_df.drop(full_hawks_df.tail(1).index)"
   ]
  },
  {
   "cell_type": "code",
   "execution_count": 86,
   "metadata": {},
   "outputs": [],
   "source": [
    "df_cols = df.columns.tolist()\n",
    "cols = [x.lower().replace('i_f_', \"\") for x in df_cols]\n",
    "df.columns = cols"
   ]
  },
  {
   "cell_type": "markdown",
   "metadata": {},
   "source": [
    "# Visualizing in Seaborn"
   ]
  },
  {
   "cell_type": "code",
   "execution_count": 87,
   "metadata": {},
   "outputs": [],
   "source": [
    "df_viz = df[['name','position','games_played', 'age', 'salary', 'icetime', 'points', 'goals', 'penalties', 'hits', 'giveaways', 'takeaways']]\n",
    "df_viz['assists'] = df.primaryassists + df.secondaryassists\n",
    "df_viz.position.replace(['L', 'R', 'C'], 'F', inplace = True)"
   ]
  },
  {
   "cell_type": "code",
   "execution_count": 56,
   "metadata": {},
   "outputs": [],
   "source": [
    "df_viz.set_index('name', inplace = True)"
   ]
  },
  {
   "cell_type": "code",
   "execution_count": 57,
   "metadata": {},
   "outputs": [
    {
     "data": {
      "text/html": [
       "<div>\n",
       "<style scoped>\n",
       "    .dataframe tbody tr th:only-of-type {\n",
       "        vertical-align: middle;\n",
       "    }\n",
       "\n",
       "    .dataframe tbody tr th {\n",
       "        vertical-align: top;\n",
       "    }\n",
       "\n",
       "    .dataframe thead th {\n",
       "        text-align: right;\n",
       "    }\n",
       "</style>\n",
       "<table border=\"1\" class=\"dataframe\">\n",
       "  <thead>\n",
       "    <tr style=\"text-align: right;\">\n",
       "      <th></th>\n",
       "      <th>position</th>\n",
       "      <th>games_played</th>\n",
       "      <th>age</th>\n",
       "      <th>salary</th>\n",
       "      <th>icetime</th>\n",
       "      <th>points</th>\n",
       "      <th>goals</th>\n",
       "      <th>penalties</th>\n",
       "      <th>hits</th>\n",
       "      <th>giveaways</th>\n",
       "      <th>takeaways</th>\n",
       "      <th>assists</th>\n",
       "    </tr>\n",
       "    <tr>\n",
       "      <th>name</th>\n",
       "      <th></th>\n",
       "      <th></th>\n",
       "      <th></th>\n",
       "      <th></th>\n",
       "      <th></th>\n",
       "      <th></th>\n",
       "      <th></th>\n",
       "      <th></th>\n",
       "      <th></th>\n",
       "      <th></th>\n",
       "      <th></th>\n",
       "      <th></th>\n",
       "    </tr>\n",
       "  </thead>\n",
       "  <tbody>\n",
       "    <tr>\n",
       "      <td>Nick Seeler</td>\n",
       "      <td>D</td>\n",
       "      <td>12.0</td>\n",
       "      <td>26.0</td>\n",
       "      <td>750000.0</td>\n",
       "      <td>8588.0</td>\n",
       "      <td>1.0</td>\n",
       "      <td>0.0</td>\n",
       "      <td>6.0</td>\n",
       "      <td>19.0</td>\n",
       "      <td>7.0</td>\n",
       "      <td>1.0</td>\n",
       "      <td>1.0</td>\n",
       "    </tr>\n",
       "    <tr>\n",
       "      <td>Brent Seabrook</td>\n",
       "      <td>D</td>\n",
       "      <td>32.0</td>\n",
       "      <td>34.0</td>\n",
       "      <td>6875000.0</td>\n",
       "      <td>34867.0</td>\n",
       "      <td>4.0</td>\n",
       "      <td>3.0</td>\n",
       "      <td>4.0</td>\n",
       "      <td>52.0</td>\n",
       "      <td>27.0</td>\n",
       "      <td>3.0</td>\n",
       "      <td>1.0</td>\n",
       "    </tr>\n",
       "    <tr>\n",
       "      <td>Drake Caggiula</td>\n",
       "      <td>F</td>\n",
       "      <td>40.0</td>\n",
       "      <td>25.0</td>\n",
       "      <td>1500000.0</td>\n",
       "      <td>28344.0</td>\n",
       "      <td>15.0</td>\n",
       "      <td>9.0</td>\n",
       "      <td>13.0</td>\n",
       "      <td>81.0</td>\n",
       "      <td>5.0</td>\n",
       "      <td>19.0</td>\n",
       "      <td>6.0</td>\n",
       "    </tr>\n",
       "    <tr>\n",
       "      <td>Connor Murphy</td>\n",
       "      <td>D</td>\n",
       "      <td>58.0</td>\n",
       "      <td>26.0</td>\n",
       "      <td>4400000.0</td>\n",
       "      <td>73928.0</td>\n",
       "      <td>19.0</td>\n",
       "      <td>5.0</td>\n",
       "      <td>12.0</td>\n",
       "      <td>128.0</td>\n",
       "      <td>44.0</td>\n",
       "      <td>17.0</td>\n",
       "      <td>14.0</td>\n",
       "    </tr>\n",
       "    <tr>\n",
       "      <td>Matthew Highmore</td>\n",
       "      <td>F</td>\n",
       "      <td>36.0</td>\n",
       "      <td>23.0</td>\n",
       "      <td>817500.0</td>\n",
       "      <td>21196.0</td>\n",
       "      <td>6.0</td>\n",
       "      <td>2.0</td>\n",
       "      <td>3.0</td>\n",
       "      <td>38.0</td>\n",
       "      <td>9.0</td>\n",
       "      <td>15.0</td>\n",
       "      <td>4.0</td>\n",
       "    </tr>\n",
       "  </tbody>\n",
       "</table>\n",
       "</div>"
      ],
      "text/plain": [
       "                 position  games_played   age     salary  icetime  points  \\\n",
       "name                                                                        \n",
       "Nick Seeler             D          12.0  26.0   750000.0   8588.0     1.0   \n",
       "Brent Seabrook          D          32.0  34.0  6875000.0  34867.0     4.0   \n",
       "Drake Caggiula          F          40.0  25.0  1500000.0  28344.0    15.0   \n",
       "Connor Murphy           D          58.0  26.0  4400000.0  73928.0    19.0   \n",
       "Matthew Highmore        F          36.0  23.0   817500.0  21196.0     6.0   \n",
       "\n",
       "                  goals  penalties   hits  giveaways  takeaways  assists  \n",
       "name                                                                      \n",
       "Nick Seeler         0.0        6.0   19.0        7.0        1.0      1.0  \n",
       "Brent Seabrook      3.0        4.0   52.0       27.0        3.0      1.0  \n",
       "Drake Caggiula      9.0       13.0   81.0        5.0       19.0      6.0  \n",
       "Connor Murphy       5.0       12.0  128.0       44.0       17.0     14.0  \n",
       "Matthew Highmore    2.0        3.0   38.0        9.0       15.0      4.0  "
      ]
     },
     "execution_count": 57,
     "metadata": {},
     "output_type": "execute_result"
    }
   ],
   "source": [
    "df_viz.head()"
   ]
  },
  {
   "cell_type": "markdown",
   "metadata": {},
   "source": [
    "## Scatter Plot -- sns.relplot()"
   ]
  },
  {
   "cell_type": "code",
   "execution_count": 58,
   "metadata": {},
   "outputs": [
    {
     "data": {
      "image/png": "[encoded data removed]",
      "text/plain": [
       "<Figure size 360x360 with 1 Axes>"
      ]
     },
     "metadata": {
      "needs_background": "light"
     },
     "output_type": "display_data"
    }
   ],
   "source": [
    "sns.relplot(data = df_viz, x = 'games_played', y = 'points', color = 'blue')\n",
    "plt.tight_layout()"
   ]
  },
  {
   "cell_type": "code",
   "execution_count": 59,
   "metadata": {},
   "outputs": [
    {
     "data": {
      "image/png": "[encoded data removed]",
      "text/plain": [
       "<Figure size 430.875x360 with 1 Axes>"
      ]
     },
     "metadata": {
      "needs_background": "light"
     },
     "output_type": "display_data"
    }
   ],
   "source": [
    "r = sns.relplot(data = df_viz, x = 'games_played', y = 'points', hue = 'position')\n",
    "leg = r._legend\n",
    "leg.set_bbox_to_anchor([0.3,0.85])\n",
    "plt.tight_layout()"
   ]
  },
  {
   "cell_type": "code",
   "execution_count": 95,
   "metadata": {},
   "outputs": [
    {
     "data": {
      "image/png": "[encoded data removed]",
      "text/plain": [
       "<Figure size 720x360 with 2 Axes>"
      ]
     },
     "metadata": {
      "needs_background": "light"
     },
     "output_type": "display_data"
    }
   ],
   "source": [
    "r2 = sns.relplot(data = df_viz, x = 'games_played', y = 'points', col = 'position', s = 75, palette = [\"b\", \"r\"])\n",
    "r2.set_xlabels('Games Played')\n",
    "r2.set_ylabels('Points (Goals + Assists)')\n",
    "r2.fig.suptitle('Points per Games Played by Position')\n",
    "plt.tight_layout()"
   ]
  },
  {
   "cell_type": "markdown",
   "metadata": {},
   "source": [
    "## Boxplot -- sns.catplot()"
   ]
  },
  {
   "cell_type": "code",
   "execution_count": 108,
   "metadata": {},
   "outputs": [
    {
     "data": {
      "image/png": "[encoded data removed]",
      "text/plain": [
       "<Figure size 360x360 with 1 Axes>"
      ]
     },
     "metadata": {
      "needs_background": "light"
     },
     "output_type": "display_data"
    }
   ],
   "source": [
    "f = sns.catplot(data = df_viz, x = 'position', y = 'icetime', kind = 'box')\n",
    "f.set_xlabels('Position')\n",
    "f.set_ylabels('Ice Time (Minutes)')\n",
    "plt.tight_layout()"
   ]
  },
  {
   "cell_type": "code",
   "execution_count": 129,
   "metadata": {},
   "outputs": [
    {
     "data": {
      "image/png": "[encoded data removed]",
      "text/plain": [
       "<Figure size 360x360 with 1 Axes>"
      ]
     },
     "metadata": {
      "needs_background": "light"
     },
     "output_type": "display_data"
    }
   ],
   "source": [
    "b = sns.catplot(data = df_viz, x = 'position', y = 'points', kind = 'bar')\n",
    "b.set_xlabels('Position')\n",
    "b.set_ylabels('Points')\n",
    "plt.tight_layout()"
   ]
  },
  {
   "cell_type": "markdown",
   "metadata": {},
   "source": [
    "## Histogram"
   ]
  },
  {
   "cell_type": "code",
   "execution_count": 140,
   "metadata": {},
   "outputs": [
    {
     "data": {
      "image/png": "[encoded data removed]",
      "text/plain": [
       "<Figure size 432x288 with 1 Axes>"
      ]
     },
     "metadata": {
      "needs_background": "light"
     },
     "output_type": "display_data"
    }
   ],
   "source": [
    "sns.distplot(df_viz.salary, bins = 5)\n",
    "plt.tight_layout()"
   ]
  },
  {
   "cell_type": "code",
   "execution_count": null,
   "metadata": {},
   "outputs": [],
   "source": []
  },
  {
   "cell_type": "code",
   "execution_count": null,
   "metadata": {},
   "outputs": [],
   "source": []
  },
  {
   "cell_type": "code",
   "execution_count": null,
   "metadata": {},
   "outputs": [],
   "source": []
  }
 ],
 "metadata": {
  "kernelspec": {
   "display_name": "Python 3",
   "language": "python",
   "name": "python3"
  },
  "language_info": {
   "codemirror_mode": {
    "name": "ipython",
    "version": 3
   },
   "file_extension": ".py",
   "mimetype": "text/x-python",
   "name": "python",
   "nbconvert_exporter": "python",
   "pygments_lexer": "ipython3",
   "version": "3.6.9"
  }
 },
 "nbformat": 4,
 "nbformat_minor": 4
}
